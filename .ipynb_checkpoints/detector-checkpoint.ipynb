{
 "cells": [
  {
   "cell_type": "code",
   "execution_count": 1,
   "metadata": {},
   "outputs": [],
   "source": [
    "import warnings\n",
    "warnings.filterwarnings('ignore')\n",
    "warnings.simplefilter('ignore')"
   ]
  },
  {
   "cell_type": "markdown",
   "metadata": {},
   "source": [
    "**Replace hajmaj24 with your sudo password in all relevant cells**"
   ]
  },
  {
   "cell_type": "code",
   "execution_count": 2,
   "metadata": {},
   "outputs": [
    {
     "name": "stdout",
     "output_type": "stream",
     "text": [
      "Password:Requirement already satisfied: gitpython in /Users/ayushimohan/opt/anaconda3/lib/python3.7/site-packages (3.1.3)\n",
      "Requirement already satisfied: gitdb<5,>=4.0.1 in /Users/ayushimohan/opt/anaconda3/lib/python3.7/site-packages (from gitpython) (4.0.5)\n",
      "Requirement already satisfied: smmap<4,>=3.0.1 in /Users/ayushimohan/opt/anaconda3/lib/python3.7/site-packages (from gitdb<5,>=4.0.1->gitpython) (3.0.4)\n"
     ]
    }
   ],
   "source": [
    "!echo hajmaj24 | sudo -S pip install gitpython"
   ]
  },
  {
   "cell_type": "code",
   "execution_count": 3,
   "metadata": {},
   "outputs": [
    {
     "name": "stdout",
     "output_type": "stream",
     "text": [
      "Password:Requirement already satisfied: opencv-python in /Users/ayushimohan/opt/anaconda3/lib/python3.7/site-packages (4.2.0.34)\n",
      "Requirement already satisfied: numpy>=1.14.5 in /Users/ayushimohan/opt/anaconda3/lib/python3.7/site-packages (from opencv-python) (1.18.1)\n"
     ]
    }
   ],
   "source": [
    "!echo hajmaj24 | sudo -S pip install opencv-python"
   ]
  },
  {
   "cell_type": "code",
   "execution_count": 4,
   "metadata": {},
   "outputs": [],
   "source": [
    "import os\n",
    "import git"
   ]
  },
  {
   "cell_type": "code",
   "execution_count": 5,
   "metadata": {},
   "outputs": [
    {
     "data": {
      "text/plain": [
       "'/Users/ayushimohan/Documents/GitHub/PESU-ParkIt'"
      ]
     },
     "execution_count": 5,
     "metadata": {},
     "output_type": "execute_result"
    }
   ],
   "source": [
    "os.getcwd()"
   ]
  },
  {
   "cell_type": "code",
   "execution_count": null,
   "metadata": {},
   "outputs": [
    {
     "name": "stdout",
     "output_type": "stream",
     "text": [
      "Cloning M-RCNN repository...\n"
     ]
    }
   ],
   "source": [
    "if not os.path.exists(\"Mask_RCNN\"):\n",
    "    print(\"Cloning M-RCNN repository...\")\n",
    "    git.Git(\"./\").clone(\"https://github.com/matterport/Mask_RCNN.git\")\n",
    "\n",
    "os.chdir(\"Mask_RCNN\")\n",
    "\n",
    "\n",
    "!echo hajmaj24 | sudo -S pip install -r requirements.txt\n",
    "%run setup.py install"
   ]
  },
  {
   "cell_type": "code",
   "execution_count": null,
   "metadata": {
    "scrolled": true
   },
   "outputs": [],
   "source": [
    "!echo hajmaj24 | sudo -S pip install tensorflow==1.13.1\n",
    "!echo hajmaj24 | sudo -S pip install keras==2.1.0"
   ]
  },
  {
   "cell_type": "code",
   "execution_count": null,
   "metadata": {},
   "outputs": [],
   "source": [
    "import tensorflow as tf\n",
    "tf.__version__"
   ]
  },
  {
   "cell_type": "code",
   "execution_count": null,
   "metadata": {},
   "outputs": [],
   "source": [
    "import keras as k\n",
    "k.__version__"
   ]
  },
  {
   "cell_type": "code",
   "execution_count": null,
   "metadata": {},
   "outputs": [],
   "source": [
    "import numpy as np\n",
    "import cv2\n",
    "import Mask_RCNN.mrcnn.config\n",
    "import Mask_RCNN.mrcnn.utils\n",
    "from Mask_RCNN.mrcnn.model import MaskRCNN\n",
    "from pathlib import Path\n",
    "import pickle\n",
    "import argparse\n",
    "\n",
    "from shapely.geometry import box\n",
    "from shapely.geometry import Polygon as shapely_poly\n",
    "import io\n",
    "import base64\n",
    "import logging\n",
    "logging.getLogger('tensorflow').setLevel(logging.ERROR)\n",
    "\n",
    "\n",
    "class Config(Mask_RCNN.mrcnn.config.Config):\n",
    "    NAME = \"model_config\"\n",
    "    IMAGES_PER_GPU = 1\n",
    "    GPU_COUNT = 1\n",
    "    NUM_CLASSES = 81\n",
    "\n",
    "config = Config()\n",
    "config.display()\n",
    "\n",
    "ROOT_DIR = os.getcwd()\n",
    "MODEL_DIR = os.path.join(ROOT_DIR, \"logs\")\n",
    "COCO_MODEL_PATH = os.path.join(ROOT_DIR, \"mask_rcnn_coco.h5\")\n",
    "\n",
    "print(COCO_MODEL_PATH)\n",
    "if not os.path.exists(COCO_MODEL_PATH):\n",
    "    Mask_RCNN.mrcnn.utils.download_trained_weights(COCO_MODEL_PATH)\n",
    "\n",
    "model = MaskRCNN(mode=\"inference\", model_dir=MODEL_DIR, config=Config())\n",
    "model.load_weights(COCO_MODEL_PATH, by_name=True)\n",
    "\n",
    "def get_cars(boxes, class_ids):\n",
    "    cars = []\n",
    "    for i, box in enumerate(boxes):\n",
    "        if class_ids[i] in [3, 8, 6]:\n",
    "            cars.append(box)\n",
    "    return np.array(cars)\n",
    "\n",
    "def compute_overlaps(parked_car_boxes, car_boxes):\n",
    "    new_car_boxes = []\n",
    "    for box in car_boxes:\n",
    "        y1 = box[0]\n",
    "        x1 = box[1]\n",
    "        y2 = box[2]\n",
    "        x2 = box[3]\n",
    "        \n",
    "        p1 = (x1, y1)\n",
    "        p2 = (x2, y1)\n",
    "        p3 = (x2, y2)\n",
    "        p4 = (x1, y2)\n",
    "        new_car_boxes.append([p1, p2, p3, p4])\n",
    "    \n",
    "    overlaps = np.zeros((len(parked_car_boxes), len(new_car_boxes)))\n",
    "    for i in range(len(parked_car_boxes)):\n",
    "        for j in range(car_boxes.shape[0]):\n",
    "            pol1_xy = parked_car_boxes[i]\n",
    "            pol2_xy = new_car_boxes[j]\n",
    "            polygon1_shape = shapely_poly(pol1_xy)\n",
    "            polygon2_shape = shapely_poly(pol2_xy)\n",
    "\n",
    "            polygon_intersection = polygon1_shape.intersection(polygon2_shape).area\n",
    "            polygon_union = polygon1_shape.union(polygon2_shape).area\n",
    "            IOU = polygon_intersection / polygon_union\n",
    "            overlaps[i][j] = IOU\n",
    "    return overlaps\n"
   ]
  },
  {
   "cell_type": "code",
   "execution_count": null,
   "metadata": {},
   "outputs": [],
   "source": [
    "os.chdir(\"..\")\n",
    "os.getcwd()"
   ]
  },
  {
   "cell_type": "code",
   "execution_count": null,
   "metadata": {},
   "outputs": [],
   "source": [
    "!echo hajmaj24 | sudo -S pip install opencv-contrib-python"
   ]
  },
  {
   "cell_type": "code",
   "execution_count": null,
   "metadata": {},
   "outputs": [],
   "source": [
    "smh = open(\"smh.txt\", \"r\")\n",
    "id = smh.read()\n",
    "print(id)"
   ]
  },
  {
   "cell_type": "code",
   "execution_count": null,
   "metadata": {},
   "outputs": [],
   "source": [
    "if __name__ == \"__main__\":\n",
    "    \n",
    "    regions = \"regions-1.p\"\n",
    "    with open(regions, 'rb') as f:\n",
    "        parked_car_boxes = pickle.load(f)\n",
    "\n",
    "    VIDEO_SOURCE = \"parking_vid.mp4\"\n",
    "    alpha = 0.6\n",
    "    video_capture = cv2.VideoCapture(VIDEO_SOURCE)\n",
    "    video_FourCC    = cv2.VideoWriter_fourcc('M','J','P','G')\n",
    "    video_fps       = video_capture.get(cv2.CAP_PROP_FPS)\n",
    "    video_size      = (int(video_capture.get(cv2.CAP_PROP_FRAME_WIDTH)),\n",
    "                        int(video_capture.get(cv2.CAP_PROP_FRAME_HEIGHT)))\n",
    "    out = cv2.VideoWriter(\"out.avi\", video_FourCC, video_fps, video_size)\n",
    "    id_list = []\n",
    "    while video_capture.isOpened():\n",
    "        success, frame = video_capture.read()\n",
    "        overlay = frame.copy()\n",
    "        if not success:\n",
    "            print(\"Missing\")\n",
    "            break\n",
    "\n",
    "        rgb_image = frame[:, :, ::-1]\n",
    "        results = model.detect([rgb_image], verbose=0)\n",
    "        \n",
    "        \n",
    "        cars = get_cars(results[0]['rois'], results[0]['class_ids'])\n",
    "        overlaps = compute_overlaps(parked_car_boxes, cars)\n",
    "\n",
    "        for parking_area, overlap_areas in zip(parked_car_boxes, overlaps):\n",
    "            count = 1\n",
    "            max_IoU_overlap = np.max(overlap_areas)\n",
    "            if max_IoU_overlap < 0.15:\n",
    "                cv2.fillPoly(overlay, [np.array(parking_area)], (0, 0, 255))\n",
    "                free_space = True\n",
    "                id_list.append(count)\n",
    "        cv2.addWeighted(overlay, alpha, frame, 1 - alpha, 0, frame)\n",
    "        \n",
    "        '''count = 0\n",
    "        while count != id:\n",
    "             frame = cv2.putText(np.array(frame), str(count+1), (int(parked_car_boxes[0][0,:1]), int(parked_car_boxes[0][0,1:])), cv2.FONT_HERSHEY_SIMPLEX, 0.5, (255,0,0), 2)\n",
    "             count += 1'''\n",
    "\n",
    "        cv2.imshow('output', frame)\n",
    "        out.write(frame)\n",
    "        if cv2.waitKey(1) & 0xFF == ord('q'):\n",
    "            break\n",
    "\n",
    "    video_capture.release()\n",
    "    out.release()\n",
    "    cv2.destroyAllWindows()\n",
    "    print(\"output saved as out.avi\")\n",
    "    print(id_list)"
   ]
  },
  {
   "cell_type": "code",
   "execution_count": null,
   "metadata": {},
   "outputs": [],
   "source": []
  },
  {
   "cell_type": "code",
   "execution_count": null,
   "metadata": {},
   "outputs": [],
   "source": []
  }
 ],
 "metadata": {
  "kernelspec": {
   "display_name": "Python 3",
   "language": "python",
   "name": "python3"
  },
  "language_info": {
   "codemirror_mode": {
    "name": "ipython",
    "version": 3
   },
   "file_extension": ".py",
   "mimetype": "text/x-python",
   "name": "python",
   "nbconvert_exporter": "python",
   "pygments_lexer": "ipython3",
   "version": "3.7.6"
  }
 },
 "nbformat": 4,
 "nbformat_minor": 4
}
