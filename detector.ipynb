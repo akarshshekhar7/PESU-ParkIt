{
 "cells": [
  {
   "cell_type": "code",
   "execution_count": 1,
   "metadata": {},
   "outputs": [],
   "source": [
    "import warnings\n",
    "warnings.filterwarnings('ignore')\n",
    "warnings.simplefilter('ignore')"
   ]
  },
  {
   "cell_type": "markdown",
   "metadata": {},
   "source": [
    "**Replace hajmaj24 with your sudo password in all relevant cells**"
   ]
  },
  {
   "cell_type": "code",
   "execution_count": 2,
   "metadata": {},
   "outputs": [
    {
     "name": "stdout",
     "output_type": "stream",
     "text": [
      "Password:Requirement already satisfied: gitpython in /Users/ayushimohan/opt/anaconda3/lib/python3.7/site-packages (3.1.3)\n",
      "Requirement already satisfied: gitdb<5,>=4.0.1 in /Users/ayushimohan/opt/anaconda3/lib/python3.7/site-packages (from gitpython) (4.0.5)\n",
      "Requirement already satisfied: smmap<4,>=3.0.1 in /Users/ayushimohan/opt/anaconda3/lib/python3.7/site-packages (from gitdb<5,>=4.0.1->gitpython) (3.0.4)\n"
     ]
    }
   ],
   "source": [
    "!echo hajmaj24 | sudo -S pip install gitpython"
   ]
  },
  {
   "cell_type": "code",
   "execution_count": 3,
   "metadata": {},
   "outputs": [
    {
     "name": "stdout",
     "output_type": "stream",
     "text": [
      "Password:Requirement already satisfied: opencv-python in /Users/ayushimohan/opt/anaconda3/lib/python3.7/site-packages (4.2.0.34)\n",
      "Requirement already satisfied: numpy>=1.14.5 in /Users/ayushimohan/opt/anaconda3/lib/python3.7/site-packages (from opencv-python) (1.18.1)\n"
     ]
    }
   ],
   "source": [
    "!echo hajmaj24 | sudo -S pip install opencv-python"
   ]
  },
  {
   "cell_type": "code",
   "execution_count": 4,
   "metadata": {},
   "outputs": [],
   "source": [
    "import os\n",
    "import git"
   ]
  },
  {
   "cell_type": "code",
   "execution_count": 5,
   "metadata": {},
   "outputs": [
    {
     "data": {
      "text/plain": [
       "'/Users/ayushimohan/Documents/GitHub/PESU-ParkIt'"
      ]
     },
     "execution_count": 5,
     "metadata": {},
     "output_type": "execute_result"
    }
   ],
   "source": [
    "os.getcwd()"
   ]
  },
  {
   "cell_type": "code",
   "execution_count": 6,
   "metadata": {},
   "outputs": [
    {
     "name": "stdout",
     "output_type": "stream",
     "text": [
      "Password:Requirement already satisfied: numpy in /Users/ayushimohan/opt/anaconda3/lib/python3.7/site-packages (from -r requirements.txt (line 1)) (1.18.1)\n",
      "Requirement already satisfied: scipy in /Users/ayushimohan/opt/anaconda3/lib/python3.7/site-packages (from -r requirements.txt (line 2)) (1.4.1)\n",
      "Requirement already satisfied: Pillow in /Users/ayushimohan/opt/anaconda3/lib/python3.7/site-packages (from -r requirements.txt (line 3)) (7.0.0)\n",
      "Requirement already satisfied: cython in /Users/ayushimohan/opt/anaconda3/lib/python3.7/site-packages (from -r requirements.txt (line 4)) (0.29.15)\n",
      "Requirement already satisfied: matplotlib in /Users/ayushimohan/opt/anaconda3/lib/python3.7/site-packages (from -r requirements.txt (line 5)) (3.1.3)\n",
      "Requirement already satisfied: scikit-image in /Users/ayushimohan/opt/anaconda3/lib/python3.7/site-packages (from -r requirements.txt (line 6)) (0.16.2)\n",
      "Requirement already satisfied: tensorflow>=1.3.0 in /Users/ayushimohan/opt/anaconda3/lib/python3.7/site-packages (from -r requirements.txt (line 7)) (1.13.1)\n",
      "Requirement already satisfied: keras>=2.0.8 in /Users/ayushimohan/opt/anaconda3/lib/python3.7/site-packages (from -r requirements.txt (line 8)) (2.1.0)\n",
      "Requirement already satisfied: opencv-python in /Users/ayushimohan/opt/anaconda3/lib/python3.7/site-packages (from -r requirements.txt (line 9)) (4.2.0.34)\n",
      "Requirement already satisfied: h5py in /Users/ayushimohan/opt/anaconda3/lib/python3.7/site-packages (from -r requirements.txt (line 10)) (2.10.0)\n",
      "Requirement already satisfied: imgaug in /Users/ayushimohan/opt/anaconda3/lib/python3.7/site-packages (from -r requirements.txt (line 11)) (0.4.0)\n",
      "Requirement already satisfied: IPython[all] in /Users/ayushimohan/opt/anaconda3/lib/python3.7/site-packages (from -r requirements.txt (line 12)) (7.12.0)\n",
      "Requirement already satisfied: python-dateutil>=2.1 in /Users/ayushimohan/opt/anaconda3/lib/python3.7/site-packages (from matplotlib->-r requirements.txt (line 5)) (2.8.1)\n",
      "Requirement already satisfied: pyparsing!=2.0.4,!=2.1.2,!=2.1.6,>=2.0.1 in /Users/ayushimohan/opt/anaconda3/lib/python3.7/site-packages (from matplotlib->-r requirements.txt (line 5)) (2.4.6)\n",
      "Requirement already satisfied: kiwisolver>=1.0.1 in /Users/ayushimohan/opt/anaconda3/lib/python3.7/site-packages (from matplotlib->-r requirements.txt (line 5)) (1.1.0)\n",
      "Requirement already satisfied: cycler>=0.10 in /Users/ayushimohan/opt/anaconda3/lib/python3.7/site-packages (from matplotlib->-r requirements.txt (line 5)) (0.10.0)\n",
      "Requirement already satisfied: networkx>=2.0 in /Users/ayushimohan/opt/anaconda3/lib/python3.7/site-packages (from scikit-image->-r requirements.txt (line 6)) (2.4)\n",
      "Requirement already satisfied: PyWavelets>=0.4.0 in /Users/ayushimohan/opt/anaconda3/lib/python3.7/site-packages (from scikit-image->-r requirements.txt (line 6)) (1.1.1)\n",
      "Requirement already satisfied: imageio>=2.3.0 in /Users/ayushimohan/opt/anaconda3/lib/python3.7/site-packages (from scikit-image->-r requirements.txt (line 6)) (2.6.1)\n",
      "Requirement already satisfied: termcolor>=1.1.0 in /Users/ayushimohan/opt/anaconda3/lib/python3.7/site-packages (from tensorflow>=1.3.0->-r requirements.txt (line 7)) (1.1.0)\n",
      "Requirement already satisfied: gast>=0.2.0 in /Users/ayushimohan/opt/anaconda3/lib/python3.7/site-packages (from tensorflow>=1.3.0->-r requirements.txt (line 7)) (0.2.2)\n",
      "Requirement already satisfied: grpcio>=1.8.6 in /Users/ayushimohan/opt/anaconda3/lib/python3.7/site-packages (from tensorflow>=1.3.0->-r requirements.txt (line 7)) (1.30.0)\n",
      "Requirement already satisfied: astor>=0.6.0 in /Users/ayushimohan/opt/anaconda3/lib/python3.7/site-packages (from tensorflow>=1.3.0->-r requirements.txt (line 7)) (0.8.1)\n",
      "Requirement already satisfied: tensorflow-estimator<1.14.0rc0,>=1.13.0 in /Users/ayushimohan/opt/anaconda3/lib/python3.7/site-packages (from tensorflow>=1.3.0->-r requirements.txt (line 7)) (1.13.0)\n",
      "Requirement already satisfied: tensorboard<1.14.0,>=1.13.0 in /Users/ayushimohan/opt/anaconda3/lib/python3.7/site-packages (from tensorflow>=1.3.0->-r requirements.txt (line 7)) (1.13.1)\n",
      "Requirement already satisfied: protobuf>=3.6.1 in /Users/ayushimohan/opt/anaconda3/lib/python3.7/site-packages (from tensorflow>=1.3.0->-r requirements.txt (line 7)) (3.12.2)\n",
      "Requirement already satisfied: keras-preprocessing>=1.0.5 in /Users/ayushimohan/opt/anaconda3/lib/python3.7/site-packages (from tensorflow>=1.3.0->-r requirements.txt (line 7)) (1.1.2)\n",
      "Requirement already satisfied: six>=1.10.0 in /Users/ayushimohan/opt/anaconda3/lib/python3.7/site-packages (from tensorflow>=1.3.0->-r requirements.txt (line 7)) (1.14.0)\n",
      "Requirement already satisfied: keras-applications>=1.0.6 in /Users/ayushimohan/opt/anaconda3/lib/python3.7/site-packages (from tensorflow>=1.3.0->-r requirements.txt (line 7)) (1.0.8)\n",
      "Requirement already satisfied: absl-py>=0.1.6 in /Users/ayushimohan/opt/anaconda3/lib/python3.7/site-packages (from tensorflow>=1.3.0->-r requirements.txt (line 7)) (0.9.0)\n",
      "Requirement already satisfied: wheel>=0.26 in /Users/ayushimohan/opt/anaconda3/lib/python3.7/site-packages (from tensorflow>=1.3.0->-r requirements.txt (line 7)) (0.34.2)\n",
      "Requirement already satisfied: pyyaml in /Users/ayushimohan/opt/anaconda3/lib/python3.7/site-packages (from keras>=2.0.8->-r requirements.txt (line 8)) (5.3)\n",
      "Requirement already satisfied: Shapely in /Users/ayushimohan/opt/anaconda3/lib/python3.7/site-packages (from imgaug->-r requirements.txt (line 11)) (1.7.0)\n",
      "Requirement already satisfied: backcall in /Users/ayushimohan/opt/anaconda3/lib/python3.7/site-packages (from IPython[all]->-r requirements.txt (line 12)) (0.1.0)\n",
      "Requirement already satisfied: pickleshare in /Users/ayushimohan/opt/anaconda3/lib/python3.7/site-packages (from IPython[all]->-r requirements.txt (line 12)) (0.7.5)\n",
      "Requirement already satisfied: decorator in /Users/ayushimohan/opt/anaconda3/lib/python3.7/site-packages (from IPython[all]->-r requirements.txt (line 12)) (4.4.1)\n",
      "Requirement already satisfied: traitlets>=4.2 in /Users/ayushimohan/opt/anaconda3/lib/python3.7/site-packages (from IPython[all]->-r requirements.txt (line 12)) (4.3.3)\n",
      "Requirement already satisfied: appnope; sys_platform == \"darwin\" in /Users/ayushimohan/opt/anaconda3/lib/python3.7/site-packages (from IPython[all]->-r requirements.txt (line 12)) (0.1.0)\n",
      "Requirement already satisfied: jedi>=0.10 in /Users/ayushimohan/opt/anaconda3/lib/python3.7/site-packages (from IPython[all]->-r requirements.txt (line 12)) (0.14.1)\n",
      "Requirement already satisfied: prompt-toolkit!=3.0.0,!=3.0.1,<3.1.0,>=2.0.0 in /Users/ayushimohan/opt/anaconda3/lib/python3.7/site-packages (from IPython[all]->-r requirements.txt (line 12)) (3.0.3)\n",
      "Requirement already satisfied: pexpect; sys_platform != \"win32\" in /Users/ayushimohan/opt/anaconda3/lib/python3.7/site-packages (from IPython[all]->-r requirements.txt (line 12)) (4.8.0)\n",
      "Requirement already satisfied: setuptools>=18.5 in /Users/ayushimohan/opt/anaconda3/lib/python3.7/site-packages (from IPython[all]->-r requirements.txt (line 12)) (46.0.0.post20200309)\n",
      "Requirement already satisfied: pygments in /Users/ayushimohan/opt/anaconda3/lib/python3.7/site-packages (from IPython[all]->-r requirements.txt (line 12)) (2.5.2)\n",
      "Requirement already satisfied: notebook; extra == \"all\" in /Users/ayushimohan/opt/anaconda3/lib/python3.7/site-packages (from IPython[all]->-r requirements.txt (line 12)) (6.0.3)\n",
      "Requirement already satisfied: testpath; extra == \"all\" in /Users/ayushimohan/opt/anaconda3/lib/python3.7/site-packages (from IPython[all]->-r requirements.txt (line 12)) (0.4.4)\n",
      "Requirement already satisfied: ipykernel; extra == \"all\" in /Users/ayushimohan/opt/anaconda3/lib/python3.7/site-packages (from IPython[all]->-r requirements.txt (line 12)) (5.1.4)\n",
      "Requirement already satisfied: ipyparallel; extra == \"all\" in /Users/ayushimohan/opt/anaconda3/lib/python3.7/site-packages (from IPython[all]->-r requirements.txt (line 12)) (6.3.0)\n",
      "Requirement already satisfied: qtconsole; extra == \"all\" in /Users/ayushimohan/opt/anaconda3/lib/python3.7/site-packages (from IPython[all]->-r requirements.txt (line 12)) (4.6.0)\n",
      "Requirement already satisfied: nose>=0.10.1; extra == \"all\" in /Users/ayushimohan/opt/anaconda3/lib/python3.7/site-packages (from IPython[all]->-r requirements.txt (line 12)) (1.3.7)\n",
      "Requirement already satisfied: Sphinx>=1.3; extra == \"all\" in /Users/ayushimohan/opt/anaconda3/lib/python3.7/site-packages (from IPython[all]->-r requirements.txt (line 12)) (2.4.0)\n"
     ]
    },
    {
     "name": "stdout",
     "output_type": "stream",
     "text": [
      "Requirement already satisfied: nbformat; extra == \"all\" in /Users/ayushimohan/opt/anaconda3/lib/python3.7/site-packages (from IPython[all]->-r requirements.txt (line 12)) (5.0.4)\n",
      "Requirement already satisfied: nbconvert; extra == \"all\" in /Users/ayushimohan/opt/anaconda3/lib/python3.7/site-packages (from IPython[all]->-r requirements.txt (line 12)) (5.6.1)\n",
      "Requirement already satisfied: requests; extra == \"all\" in /Users/ayushimohan/opt/anaconda3/lib/python3.7/site-packages (from IPython[all]->-r requirements.txt (line 12)) (2.22.0)\n",
      "Requirement already satisfied: ipywidgets; extra == \"all\" in /Users/ayushimohan/opt/anaconda3/lib/python3.7/site-packages (from IPython[all]->-r requirements.txt (line 12)) (7.5.1)\n",
      "Requirement already satisfied: mock>=2.0.0 in /Users/ayushimohan/opt/anaconda3/lib/python3.7/site-packages (from tensorflow-estimator<1.14.0rc0,>=1.13.0->tensorflow>=1.3.0->-r requirements.txt (line 7)) (4.0.1)\n",
      "Requirement already satisfied: markdown>=2.6.8 in /Users/ayushimohan/opt/anaconda3/lib/python3.7/site-packages (from tensorboard<1.14.0,>=1.13.0->tensorflow>=1.3.0->-r requirements.txt (line 7)) (3.2.2)\n",
      "Requirement already satisfied: werkzeug>=0.11.15 in /Users/ayushimohan/opt/anaconda3/lib/python3.7/site-packages (from tensorboard<1.14.0,>=1.13.0->tensorflow>=1.3.0->-r requirements.txt (line 7)) (1.0.0)\n",
      "Requirement already satisfied: ipython-genutils in /Users/ayushimohan/opt/anaconda3/lib/python3.7/site-packages (from traitlets>=4.2->IPython[all]->-r requirements.txt (line 12)) (0.2.0)\n",
      "Requirement already satisfied: parso>=0.5.0 in /Users/ayushimohan/opt/anaconda3/lib/python3.7/site-packages (from jedi>=0.10->IPython[all]->-r requirements.txt (line 12)) (0.5.2)\n",
      "Requirement already satisfied: wcwidth in /Users/ayushimohan/opt/anaconda3/lib/python3.7/site-packages (from prompt-toolkit!=3.0.0,!=3.0.1,<3.1.0,>=2.0.0->IPython[all]->-r requirements.txt (line 12)) (0.1.8)\n",
      "Requirement already satisfied: ptyprocess>=0.5 in /Users/ayushimohan/opt/anaconda3/lib/python3.7/site-packages (from pexpect; sys_platform != \"win32\"->IPython[all]->-r requirements.txt (line 12)) (0.6.0)\n",
      "Requirement already satisfied: prometheus-client in /Users/ayushimohan/opt/anaconda3/lib/python3.7/site-packages (from notebook; extra == \"all\"->IPython[all]->-r requirements.txt (line 12)) (0.7.1)\n",
      "Requirement already satisfied: terminado>=0.8.1 in /Users/ayushimohan/opt/anaconda3/lib/python3.7/site-packages (from notebook; extra == \"all\"->IPython[all]->-r requirements.txt (line 12)) (0.8.3)\n",
      "Requirement already satisfied: jupyter-core>=4.6.1 in /Users/ayushimohan/opt/anaconda3/lib/python3.7/site-packages (from notebook; extra == \"all\"->IPython[all]->-r requirements.txt (line 12)) (4.6.1)\n",
      "Requirement already satisfied: pyzmq>=17 in /Users/ayushimohan/opt/anaconda3/lib/python3.7/site-packages (from notebook; extra == \"all\"->IPython[all]->-r requirements.txt (line 12)) (18.1.1)\n",
      "Requirement already satisfied: Send2Trash in /Users/ayushimohan/opt/anaconda3/lib/python3.7/site-packages (from notebook; extra == \"all\"->IPython[all]->-r requirements.txt (line 12)) (1.5.0)\n",
      "Requirement already satisfied: jupyter-client>=5.3.4 in /Users/ayushimohan/opt/anaconda3/lib/python3.7/site-packages (from notebook; extra == \"all\"->IPython[all]->-r requirements.txt (line 12)) (5.3.4)\n",
      "Requirement already satisfied: tornado>=5.0 in /Users/ayushimohan/opt/anaconda3/lib/python3.7/site-packages (from notebook; extra == \"all\"->IPython[all]->-r requirements.txt (line 12)) (6.0.3)\n",
      "Requirement already satisfied: jinja2 in /Users/ayushimohan/opt/anaconda3/lib/python3.7/site-packages (from notebook; extra == \"all\"->IPython[all]->-r requirements.txt (line 12)) (2.11.1)\n",
      "Requirement already satisfied: alabaster<0.8,>=0.7 in /Users/ayushimohan/opt/anaconda3/lib/python3.7/site-packages (from Sphinx>=1.3; extra == \"all\"->IPython[all]->-r requirements.txt (line 12)) (0.7.12)\n",
      "Requirement already satisfied: snowballstemmer>=1.1 in /Users/ayushimohan/opt/anaconda3/lib/python3.7/site-packages (from Sphinx>=1.3; extra == \"all\"->IPython[all]->-r requirements.txt (line 12)) (2.0.0)\n",
      "Requirement already satisfied: imagesize in /Users/ayushimohan/opt/anaconda3/lib/python3.7/site-packages (from Sphinx>=1.3; extra == \"all\"->IPython[all]->-r requirements.txt (line 12)) (1.2.0)\n",
      "Requirement already satisfied: docutils>=0.12 in /Users/ayushimohan/opt/anaconda3/lib/python3.7/site-packages (from Sphinx>=1.3; extra == \"all\"->IPython[all]->-r requirements.txt (line 12)) (0.16)\n",
      "Requirement already satisfied: packaging in /Users/ayushimohan/opt/anaconda3/lib/python3.7/site-packages (from Sphinx>=1.3; extra == \"all\"->IPython[all]->-r requirements.txt (line 12)) (20.1)\n",
      "Requirement already satisfied: sphinxcontrib-jsmath in /Users/ayushimohan/opt/anaconda3/lib/python3.7/site-packages (from Sphinx>=1.3; extra == \"all\"->IPython[all]->-r requirements.txt (line 12)) (1.0.1)\n",
      "Requirement already satisfied: sphinxcontrib-devhelp in /Users/ayushimohan/opt/anaconda3/lib/python3.7/site-packages (from Sphinx>=1.3; extra == \"all\"->IPython[all]->-r requirements.txt (line 12)) (1.0.1)\n",
      "Requirement already satisfied: sphinxcontrib-qthelp in /Users/ayushimohan/opt/anaconda3/lib/python3.7/site-packages (from Sphinx>=1.3; extra == \"all\"->IPython[all]->-r requirements.txt (line 12)) (1.0.2)\n",
      "Requirement already satisfied: babel!=2.0,>=1.3 in /Users/ayushimohan/opt/anaconda3/lib/python3.7/site-packages (from Sphinx>=1.3; extra == \"all\"->IPython[all]->-r requirements.txt (line 12)) (2.8.0)\n",
      "Requirement already satisfied: sphinxcontrib-serializinghtml in /Users/ayushimohan/opt/anaconda3/lib/python3.7/site-packages (from Sphinx>=1.3; extra == \"all\"->IPython[all]->-r requirements.txt (line 12)) (1.1.3)\n",
      "Requirement already satisfied: sphinxcontrib-htmlhelp in /Users/ayushimohan/opt/anaconda3/lib/python3.7/site-packages (from Sphinx>=1.3; extra == \"all\"->IPython[all]->-r requirements.txt (line 12)) (1.0.2)\n",
      "Requirement already satisfied: sphinxcontrib-applehelp in /Users/ayushimohan/opt/anaconda3/lib/python3.7/site-packages (from Sphinx>=1.3; extra == \"all\"->IPython[all]->-r requirements.txt (line 12)) (1.0.1)\n",
      "Requirement already satisfied: jsonschema!=2.5.0,>=2.4 in /Users/ayushimohan/opt/anaconda3/lib/python3.7/site-packages (from nbformat; extra == \"all\"->IPython[all]->-r requirements.txt (line 12)) (3.2.0)\n",
      "Requirement already satisfied: defusedxml in /Users/ayushimohan/opt/anaconda3/lib/python3.7/site-packages (from nbconvert; extra == \"all\"->IPython[all]->-r requirements.txt (line 12)) (0.6.0)\n",
      "Requirement already satisfied: mistune<2,>=0.8.1 in /Users/ayushimohan/opt/anaconda3/lib/python3.7/site-packages (from nbconvert; extra == \"all\"->IPython[all]->-r requirements.txt (line 12)) (0.8.4)\n",
      "Requirement already satisfied: pandocfilters>=1.4.1 in /Users/ayushimohan/opt/anaconda3/lib/python3.7/site-packages (from nbconvert; extra == \"all\"->IPython[all]->-r requirements.txt (line 12)) (1.4.2)\n",
      "Requirement already satisfied: bleach in /Users/ayushimohan/opt/anaconda3/lib/python3.7/site-packages (from nbconvert; extra == \"all\"->IPython[all]->-r requirements.txt (line 12)) (3.1.0)\n",
      "Requirement already satisfied: entrypoints>=0.2.2 in /Users/ayushimohan/opt/anaconda3/lib/python3.7/site-packages (from nbconvert; extra == \"all\"->IPython[all]->-r requirements.txt (line 12)) (0.3)\n",
      "Requirement already satisfied: idna<2.9,>=2.5 in /Users/ayushimohan/opt/anaconda3/lib/python3.7/site-packages (from requests; extra == \"all\"->IPython[all]->-r requirements.txt (line 12)) (2.8)\n",
      "Requirement already satisfied: certifi>=2017.4.17 in /Users/ayushimohan/opt/anaconda3/lib/python3.7/site-packages (from requests; extra == \"all\"->IPython[all]->-r requirements.txt (line 12)) (2019.11.28)\n",
      "Requirement already satisfied: chardet<3.1.0,>=3.0.2 in /Users/ayushimohan/opt/anaconda3/lib/python3.7/site-packages (from requests; extra == \"all\"->IPython[all]->-r requirements.txt (line 12)) (3.0.4)\n",
      "Requirement already satisfied: urllib3!=1.25.0,!=1.25.1,<1.26,>=1.21.1 in /Users/ayushimohan/opt/anaconda3/lib/python3.7/site-packages (from requests; extra == \"all\"->IPython[all]->-r requirements.txt (line 12)) (1.25.8)\n",
      "Requirement already satisfied: widgetsnbextension~=3.5.0 in /Users/ayushimohan/opt/anaconda3/lib/python3.7/site-packages (from ipywidgets; extra == \"all\"->IPython[all]->-r requirements.txt (line 12)) (3.5.1)\n",
      "Requirement already satisfied: importlib-metadata; python_version < \"3.8\" in /Users/ayushimohan/opt/anaconda3/lib/python3.7/site-packages (from markdown>=2.6.8->tensorboard<1.14.0,>=1.13.0->tensorflow>=1.3.0->-r requirements.txt (line 7)) (1.5.0)\n"
     ]
    },
    {
     "name": "stdout",
     "output_type": "stream",
     "text": [
      "Requirement already satisfied: MarkupSafe>=0.23 in /Users/ayushimohan/opt/anaconda3/lib/python3.7/site-packages (from jinja2->notebook; extra == \"all\"->IPython[all]->-r requirements.txt (line 12)) (1.1.1)\n",
      "Requirement already satisfied: pytz>=2015.7 in /Users/ayushimohan/opt/anaconda3/lib/python3.7/site-packages (from babel!=2.0,>=1.3->Sphinx>=1.3; extra == \"all\"->IPython[all]->-r requirements.txt (line 12)) (2019.3)\n",
      "Requirement already satisfied: pyrsistent>=0.14.0 in /Users/ayushimohan/opt/anaconda3/lib/python3.7/site-packages (from jsonschema!=2.5.0,>=2.4->nbformat; extra == \"all\"->IPython[all]->-r requirements.txt (line 12)) (0.15.7)\n",
      "Requirement already satisfied: attrs>=17.4.0 in /Users/ayushimohan/opt/anaconda3/lib/python3.7/site-packages (from jsonschema!=2.5.0,>=2.4->nbformat; extra == \"all\"->IPython[all]->-r requirements.txt (line 12)) (19.3.0)\n",
      "Requirement already satisfied: webencodings in /Users/ayushimohan/opt/anaconda3/lib/python3.7/site-packages (from bleach->nbconvert; extra == \"all\"->IPython[all]->-r requirements.txt (line 12)) (0.5.1)\n",
      "Requirement already satisfied: zipp>=0.5 in /Users/ayushimohan/opt/anaconda3/lib/python3.7/site-packages (from importlib-metadata; python_version < \"3.8\"->markdown>=2.6.8->tensorboard<1.14.0,>=1.13.0->tensorflow>=1.3.0->-r requirements.txt (line 7)) (2.2.0)\n"
     ]
    },
    {
     "name": "stderr",
     "output_type": "stream",
     "text": [
      "WARNING:root:Fail load requirements file, so using default ones.\n"
     ]
    },
    {
     "name": "stdout",
     "output_type": "stream",
     "text": [
      "running install\n",
      "running bdist_egg\n",
      "running egg_info\n",
      "writing mask_rcnn.egg-info/PKG-INFO\n",
      "writing dependency_links to mask_rcnn.egg-info/dependency_links.txt\n",
      "writing top-level names to mask_rcnn.egg-info/top_level.txt\n",
      "reading manifest file 'mask_rcnn.egg-info/SOURCES.txt'\n",
      "reading manifest template 'MANIFEST.in'\n",
      "writing manifest file 'mask_rcnn.egg-info/SOURCES.txt'\n",
      "installing library code to build/bdist.macosx-10.9-x86_64/egg\n",
      "running install_lib\n",
      "running build_py\n",
      "creating build/bdist.macosx-10.9-x86_64/egg\n",
      "creating build/bdist.macosx-10.9-x86_64/egg/mrcnn\n",
      "copying build/lib/mrcnn/config.py -> build/bdist.macosx-10.9-x86_64/egg/mrcnn\n",
      "copying build/lib/mrcnn/parallel_model.py -> build/bdist.macosx-10.9-x86_64/egg/mrcnn\n",
      "copying build/lib/mrcnn/__init__.py -> build/bdist.macosx-10.9-x86_64/egg/mrcnn\n",
      "copying build/lib/mrcnn/visualize.py -> build/bdist.macosx-10.9-x86_64/egg/mrcnn\n",
      "copying build/lib/mrcnn/model.py -> build/bdist.macosx-10.9-x86_64/egg/mrcnn\n",
      "copying build/lib/mrcnn/utils.py -> build/bdist.macosx-10.9-x86_64/egg/mrcnn\n",
      "byte-compiling build/bdist.macosx-10.9-x86_64/egg/mrcnn/config.py to config.cpython-37.pyc\n",
      "byte-compiling build/bdist.macosx-10.9-x86_64/egg/mrcnn/parallel_model.py to parallel_model.cpython-37.pyc\n",
      "byte-compiling build/bdist.macosx-10.9-x86_64/egg/mrcnn/__init__.py to __init__.cpython-37.pyc\n",
      "byte-compiling build/bdist.macosx-10.9-x86_64/egg/mrcnn/visualize.py to visualize.cpython-37.pyc\n",
      "byte-compiling build/bdist.macosx-10.9-x86_64/egg/mrcnn/model.py to model.cpython-37.pyc\n",
      "byte-compiling build/bdist.macosx-10.9-x86_64/egg/mrcnn/utils.py to utils.cpython-37.pyc\n",
      "creating build/bdist.macosx-10.9-x86_64/egg/EGG-INFO\n",
      "copying mask_rcnn.egg-info/PKG-INFO -> build/bdist.macosx-10.9-x86_64/egg/EGG-INFO\n",
      "copying mask_rcnn.egg-info/SOURCES.txt -> build/bdist.macosx-10.9-x86_64/egg/EGG-INFO\n",
      "copying mask_rcnn.egg-info/dependency_links.txt -> build/bdist.macosx-10.9-x86_64/egg/EGG-INFO\n",
      "copying mask_rcnn.egg-info/top_level.txt -> build/bdist.macosx-10.9-x86_64/egg/EGG-INFO\n"
     ]
    },
    {
     "name": "stderr",
     "output_type": "stream",
     "text": [
      "zip_safe flag not set; analyzing archive contents...\n"
     ]
    },
    {
     "name": "stdout",
     "output_type": "stream",
     "text": [
      "creating 'dist/mask_rcnn-2.1-py3.7.egg' and adding 'build/bdist.macosx-10.9-x86_64/egg' to it\n",
      "removing 'build/bdist.macosx-10.9-x86_64/egg' (and everything under it)\n",
      "Processing mask_rcnn-2.1-py3.7.egg\n",
      "Removing /Users/ayushimohan/opt/anaconda3/lib/python3.7/site-packages/mask_rcnn-2.1-py3.7.egg\n",
      "Copying mask_rcnn-2.1-py3.7.egg to /Users/ayushimohan/opt/anaconda3/lib/python3.7/site-packages\n",
      "mask-rcnn 2.1 is already the active version in easy-install.pth\n",
      "\n",
      "Installed /Users/ayushimohan/opt/anaconda3/lib/python3.7/site-packages/mask_rcnn-2.1-py3.7.egg\n",
      "Processing dependencies for mask-rcnn==2.1\n",
      "Finished processing dependencies for mask-rcnn==2.1\n"
     ]
    }
   ],
   "source": [
    "if not os.path.exists(\"Mask_RCNN\"):\n",
    "    print(\"Cloning M-RCNN repository...\")\n",
    "    git.Git(\"./\").clone(\"https://github.com/matterport/Mask_RCNN.git\")\n",
    "\n",
    "os.chdir(\"Mask_RCNN\")\n",
    "\n",
    "\n",
    "!echo hajmaj24 | sudo -S pip install -r requirements.txt\n",
    "%run setup.py install"
   ]
  },
  {
   "cell_type": "code",
   "execution_count": 7,
   "metadata": {
    "scrolled": true
   },
   "outputs": [
    {
     "name": "stdout",
     "output_type": "stream",
     "text": [
      "Password:Requirement already satisfied: tensorflow==1.13.1 in /Users/ayushimohan/opt/anaconda3/lib/python3.7/site-packages (1.13.1)\n",
      "Requirement already satisfied: six>=1.10.0 in /Users/ayushimohan/opt/anaconda3/lib/python3.7/site-packages (from tensorflow==1.13.1) (1.14.0)\n",
      "Requirement already satisfied: protobuf>=3.6.1 in /Users/ayushimohan/opt/anaconda3/lib/python3.7/site-packages (from tensorflow==1.13.1) (3.12.2)\n",
      "Requirement already satisfied: keras-preprocessing>=1.0.5 in /Users/ayushimohan/opt/anaconda3/lib/python3.7/site-packages (from tensorflow==1.13.1) (1.1.2)\n",
      "Requirement already satisfied: grpcio>=1.8.6 in /Users/ayushimohan/opt/anaconda3/lib/python3.7/site-packages (from tensorflow==1.13.1) (1.30.0)\n",
      "Requirement already satisfied: keras-applications>=1.0.6 in /Users/ayushimohan/opt/anaconda3/lib/python3.7/site-packages (from tensorflow==1.13.1) (1.0.8)\n",
      "Requirement already satisfied: numpy>=1.13.3 in /Users/ayushimohan/opt/anaconda3/lib/python3.7/site-packages (from tensorflow==1.13.1) (1.18.1)\n",
      "Requirement already satisfied: wheel>=0.26 in /Users/ayushimohan/opt/anaconda3/lib/python3.7/site-packages (from tensorflow==1.13.1) (0.34.2)\n",
      "Requirement already satisfied: tensorboard<1.14.0,>=1.13.0 in /Users/ayushimohan/opt/anaconda3/lib/python3.7/site-packages (from tensorflow==1.13.1) (1.13.1)\n",
      "Requirement already satisfied: termcolor>=1.1.0 in /Users/ayushimohan/opt/anaconda3/lib/python3.7/site-packages (from tensorflow==1.13.1) (1.1.0)\n",
      "Requirement already satisfied: tensorflow-estimator<1.14.0rc0,>=1.13.0 in /Users/ayushimohan/opt/anaconda3/lib/python3.7/site-packages (from tensorflow==1.13.1) (1.13.0)\n",
      "Requirement already satisfied: absl-py>=0.1.6 in /Users/ayushimohan/opt/anaconda3/lib/python3.7/site-packages (from tensorflow==1.13.1) (0.9.0)\n",
      "Requirement already satisfied: astor>=0.6.0 in /Users/ayushimohan/opt/anaconda3/lib/python3.7/site-packages (from tensorflow==1.13.1) (0.8.1)\n",
      "Requirement already satisfied: gast>=0.2.0 in /Users/ayushimohan/opt/anaconda3/lib/python3.7/site-packages (from tensorflow==1.13.1) (0.2.2)\n",
      "Requirement already satisfied: setuptools in /Users/ayushimohan/opt/anaconda3/lib/python3.7/site-packages (from protobuf>=3.6.1->tensorflow==1.13.1) (46.0.0.post20200309)\n",
      "Requirement already satisfied: h5py in /Users/ayushimohan/opt/anaconda3/lib/python3.7/site-packages (from keras-applications>=1.0.6->tensorflow==1.13.1) (2.10.0)\n",
      "Requirement already satisfied: werkzeug>=0.11.15 in /Users/ayushimohan/opt/anaconda3/lib/python3.7/site-packages (from tensorboard<1.14.0,>=1.13.0->tensorflow==1.13.1) (1.0.0)\n",
      "Requirement already satisfied: markdown>=2.6.8 in /Users/ayushimohan/opt/anaconda3/lib/python3.7/site-packages (from tensorboard<1.14.0,>=1.13.0->tensorflow==1.13.1) (3.2.2)\n",
      "Requirement already satisfied: mock>=2.0.0 in /Users/ayushimohan/opt/anaconda3/lib/python3.7/site-packages (from tensorflow-estimator<1.14.0rc0,>=1.13.0->tensorflow==1.13.1) (4.0.1)\n",
      "Requirement already satisfied: importlib-metadata; python_version < \"3.8\" in /Users/ayushimohan/opt/anaconda3/lib/python3.7/site-packages (from markdown>=2.6.8->tensorboard<1.14.0,>=1.13.0->tensorflow==1.13.1) (1.5.0)\n",
      "Requirement already satisfied: zipp>=0.5 in /Users/ayushimohan/opt/anaconda3/lib/python3.7/site-packages (from importlib-metadata; python_version < \"3.8\"->markdown>=2.6.8->tensorboard<1.14.0,>=1.13.0->tensorflow==1.13.1) (2.2.0)\n",
      "Password:Requirement already satisfied: keras==2.1.0 in /Users/ayushimohan/opt/anaconda3/lib/python3.7/site-packages (2.1.0)\n",
      "Requirement already satisfied: numpy>=1.9.1 in /Users/ayushimohan/opt/anaconda3/lib/python3.7/site-packages (from keras==2.1.0) (1.18.1)\n",
      "Requirement already satisfied: scipy>=0.14 in /Users/ayushimohan/opt/anaconda3/lib/python3.7/site-packages (from keras==2.1.0) (1.4.1)\n",
      "Requirement already satisfied: pyyaml in /Users/ayushimohan/opt/anaconda3/lib/python3.7/site-packages (from keras==2.1.0) (5.3)\n",
      "Requirement already satisfied: six>=1.9.0 in /Users/ayushimohan/opt/anaconda3/lib/python3.7/site-packages (from keras==2.1.0) (1.14.0)\n"
     ]
    }
   ],
   "source": [
    "!echo hajmaj24 | sudo -S pip install tensorflow==1.13.1\n",
    "!echo hajmaj24 | sudo -S pip install keras==2.1.0"
   ]
  },
  {
   "cell_type": "code",
   "execution_count": 8,
   "metadata": {},
   "outputs": [
    {
     "data": {
      "text/plain": [
       "'1.13.1'"
      ]
     },
     "execution_count": 8,
     "metadata": {},
     "output_type": "execute_result"
    }
   ],
   "source": [
    "import tensorflow as tf\n",
    "tf.__version__"
   ]
  },
  {
   "cell_type": "code",
   "execution_count": 9,
   "metadata": {},
   "outputs": [
    {
     "name": "stderr",
     "output_type": "stream",
     "text": [
      "Using TensorFlow backend.\n"
     ]
    },
    {
     "data": {
      "text/plain": [
       "'2.1.0'"
      ]
     },
     "execution_count": 9,
     "metadata": {},
     "output_type": "execute_result"
    }
   ],
   "source": [
    "import keras as k\n",
    "k.__version__"
   ]
  },
  {
   "cell_type": "code",
   "execution_count": 10,
   "metadata": {},
   "outputs": [
    {
     "name": "stdout",
     "output_type": "stream",
     "text": [
      "\n",
      "Configurations:\n",
      "BACKBONE                       resnet101\n",
      "BACKBONE_STRIDES               [4, 8, 16, 32, 64]\n",
      "BATCH_SIZE                     1\n",
      "BBOX_STD_DEV                   [0.1 0.1 0.2 0.2]\n",
      "COMPUTE_BACKBONE_SHAPE         None\n",
      "DETECTION_MAX_INSTANCES        100\n",
      "DETECTION_MIN_CONFIDENCE       0.7\n",
      "DETECTION_NMS_THRESHOLD        0.3\n",
      "FPN_CLASSIF_FC_LAYERS_SIZE     1024\n",
      "GPU_COUNT                      1\n",
      "GRADIENT_CLIP_NORM             5.0\n",
      "IMAGES_PER_GPU                 1\n",
      "IMAGE_CHANNEL_COUNT            3\n",
      "IMAGE_MAX_DIM                  1024\n",
      "IMAGE_META_SIZE                93\n",
      "IMAGE_MIN_DIM                  800\n",
      "IMAGE_MIN_SCALE                0\n",
      "IMAGE_RESIZE_MODE              square\n",
      "IMAGE_SHAPE                    [1024 1024    3]\n",
      "LEARNING_MOMENTUM              0.9\n",
      "LEARNING_RATE                  0.001\n",
      "LOSS_WEIGHTS                   {'rpn_class_loss': 1.0, 'rpn_bbox_loss': 1.0, 'mrcnn_class_loss': 1.0, 'mrcnn_bbox_loss': 1.0, 'mrcnn_mask_loss': 1.0}\n",
      "MASK_POOL_SIZE                 14\n",
      "MASK_SHAPE                     [28, 28]\n",
      "MAX_GT_INSTANCES               100\n",
      "MEAN_PIXEL                     [123.7 116.8 103.9]\n",
      "MINI_MASK_SHAPE                (56, 56)\n",
      "NAME                           model_config\n",
      "NUM_CLASSES                    81\n",
      "POOL_SIZE                      7\n",
      "POST_NMS_ROIS_INFERENCE        1000\n",
      "POST_NMS_ROIS_TRAINING         2000\n",
      "PRE_NMS_LIMIT                  6000\n",
      "ROI_POSITIVE_RATIO             0.33\n",
      "RPN_ANCHOR_RATIOS              [0.5, 1, 2]\n",
      "RPN_ANCHOR_SCALES              (32, 64, 128, 256, 512)\n",
      "RPN_ANCHOR_STRIDE              1\n",
      "RPN_BBOX_STD_DEV               [0.1 0.1 0.2 0.2]\n",
      "RPN_NMS_THRESHOLD              0.7\n",
      "RPN_TRAIN_ANCHORS_PER_IMAGE    256\n",
      "STEPS_PER_EPOCH                1000\n",
      "TOP_DOWN_PYRAMID_SIZE          256\n",
      "TRAIN_BN                       False\n",
      "TRAIN_ROIS_PER_IMAGE           200\n",
      "USE_MINI_MASK                  True\n",
      "USE_RPN_ROIS                   True\n",
      "VALIDATION_STEPS               50\n",
      "WEIGHT_DECAY                   0.0001\n",
      "\n",
      "\n",
      "/Users/ayushimohan/Documents/GitHub/PESU-ParkIt/Mask_RCNN/mask_rcnn_coco.h5\n",
      "Downloading pretrained model to /Users/ayushimohan/Documents/GitHub/PESU-ParkIt/Mask_RCNN/mask_rcnn_coco.h5 ...\n",
      "... done downloading pretrained model!\n"
     ]
    }
   ],
   "source": [
    "import numpy as np\n",
    "import cv2\n",
    "import Mask_RCNN.mrcnn.config\n",
    "import Mask_RCNN.mrcnn.utils\n",
    "from Mask_RCNN.mrcnn.model import MaskRCNN\n",
    "from pathlib import Path\n",
    "import pickle\n",
    "import argparse\n",
    "\n",
    "from shapely.geometry import box\n",
    "from shapely.geometry import Polygon as shapely_poly\n",
    "import io\n",
    "import base64\n",
    "import logging\n",
    "logging.getLogger('tensorflow').setLevel(logging.ERROR)\n",
    "\n",
    "\n",
    "class Config(Mask_RCNN.mrcnn.config.Config):\n",
    "    NAME = \"model_config\"\n",
    "    IMAGES_PER_GPU = 1\n",
    "    GPU_COUNT = 1\n",
    "    NUM_CLASSES = 81\n",
    "\n",
    "config = Config()\n",
    "config.display()\n",
    "\n",
    "ROOT_DIR = os.getcwd()\n",
    "MODEL_DIR = os.path.join(ROOT_DIR, \"logs\")\n",
    "COCO_MODEL_PATH = os.path.join(ROOT_DIR, \"mask_rcnn_coco.h5\")\n",
    "\n",
    "print(COCO_MODEL_PATH)\n",
    "if not os.path.exists(COCO_MODEL_PATH):\n",
    "    Mask_RCNN.mrcnn.utils.download_trained_weights(COCO_MODEL_PATH)\n",
    "\n",
    "model = MaskRCNN(mode=\"inference\", model_dir=MODEL_DIR, config=Config())\n",
    "model.load_weights(COCO_MODEL_PATH, by_name=True)\n",
    "\n",
    "def get_cars(boxes, class_ids):\n",
    "    cars = []\n",
    "    for i, box in enumerate(boxes):\n",
    "        if class_ids[i] in [3, 8, 6]:\n",
    "            cars.append(box)\n",
    "    return np.array(cars)\n",
    "\n",
    "def compute_overlaps(parked_car_boxes, car_boxes):\n",
    "    new_car_boxes = []\n",
    "    for box in car_boxes:\n",
    "        y1 = box[0]\n",
    "        x1 = box[1]\n",
    "        y2 = box[2]\n",
    "        x2 = box[3]\n",
    "        \n",
    "        p1 = (x1, y1)\n",
    "        p2 = (x2, y1)\n",
    "        p3 = (x2, y2)\n",
    "        p4 = (x1, y2)\n",
    "        new_car_boxes.append([p1, p2, p3, p4])\n",
    "    \n",
    "    overlaps = np.zeros((len(parked_car_boxes), len(new_car_boxes)))\n",
    "    for i in range(len(parked_car_boxes)):\n",
    "        for j in range(car_boxes.shape[0]):\n",
    "            pol1_xy = parked_car_boxes[i]\n",
    "            pol2_xy = new_car_boxes[j]\n",
    "            polygon1_shape = shapely_poly(pol1_xy)\n",
    "            polygon2_shape = shapely_poly(pol2_xy)\n",
    "\n",
    "            polygon_intersection = polygon1_shape.intersection(polygon2_shape).area\n",
    "            polygon_union = polygon1_shape.union(polygon2_shape).area\n",
    "            IOU = polygon_intersection / polygon_union\n",
    "            overlaps[i][j] = IOU\n",
    "    return overlaps\n"
   ]
  },
  {
   "cell_type": "code",
   "execution_count": 11,
   "metadata": {},
   "outputs": [
    {
     "data": {
      "text/plain": [
       "'/Users/ayushimohan/Documents/GitHub/PESU-ParkIt'"
      ]
     },
     "execution_count": 11,
     "metadata": {},
     "output_type": "execute_result"
    }
   ],
   "source": [
    "os.chdir(\"..\")\n",
    "os.getcwd()"
   ]
  },
  {
   "cell_type": "code",
   "execution_count": 12,
   "metadata": {},
   "outputs": [
    {
     "name": "stdout",
     "output_type": "stream",
     "text": [
      "Password:Requirement already satisfied: opencv-contrib-python in /Users/ayushimohan/opt/anaconda3/lib/python3.7/site-packages (4.2.0.34)\n",
      "Requirement already satisfied: numpy>=1.14.5 in /Users/ayushimohan/opt/anaconda3/lib/python3.7/site-packages (from opencv-contrib-python) (1.18.1)\n"
     ]
    }
   ],
   "source": [
    "!echo hajmaj24 | sudo -S pip install opencv-contrib-python"
   ]
  },
  {
   "cell_type": "code",
   "execution_count": 13,
   "metadata": {},
   "outputs": [
    {
     "name": "stdout",
     "output_type": "stream",
     "text": [
      "5\n"
     ]
    }
   ],
   "source": [
    "smh = open(\"smh.txt\", \"r\")\n",
    "id = smh.read()\n",
    "print(id)"
   ]
  },
  {
   "cell_type": "code",
   "execution_count": null,
   "metadata": {},
   "outputs": [],
   "source": [
    "if __name__ == \"__main__\":\n",
    "    \n",
    "    regions = \"regions-1.p\"\n",
    "    with open(regions, 'rb') as f:\n",
    "        parked_car_boxes = pickle.load(f)\n",
    "\n",
    "    VIDEO_SOURCE = \"parking_vid.mp4\"\n",
    "    alpha = 0.6\n",
    "    video_capture = cv2.VideoCapture(VIDEO_SOURCE)\n",
    "    video_FourCC    = cv2.VideoWriter_fourcc('M','J','P','G')\n",
    "    video_fps       = video_capture.get(cv2.CAP_PROP_FPS)\n",
    "    video_size      = (int(video_capture.get(cv2.CAP_PROP_FRAME_WIDTH)),\n",
    "                        int(video_capture.get(cv2.CAP_PROP_FRAME_HEIGHT)))\n",
    "    out = cv2.VideoWriter(\"out.avi\", video_FourCC, video_fps, video_size)\n",
    "    id_list = []\n",
    "    while video_capture.isOpened():\n",
    "        success, frame = video_capture.read()\n",
    "        overlay = frame.copy()\n",
    "        if not success:\n",
    "            print(\"Missing\")\n",
    "            break\n",
    "\n",
    "        rgb_image = frame[:, :, ::-1]\n",
    "        results = model.detect([rgb_image], verbose=0)\n",
    "        \n",
    "        \n",
    "        cars = get_cars(results[0]['rois'], results[0]['class_ids'])\n",
    "        overlaps = compute_overlaps(parked_car_boxes, cars)\n",
    "\n",
    "        for parking_area, overlap_areas in zip(parked_car_boxes, overlaps):\n",
    "            count = 1\n",
    "            max_IoU_overlap = np.max(overlap_areas)\n",
    "            if max_IoU_overlap < 0.15:\n",
    "                cv2.fillPoly(overlay, [np.array(parking_area)], (0, 0, 255))\n",
    "                free_space = True\n",
    "                id_list.append(count)\n",
    "        cv2.addWeighted(overlay, alpha, frame, 1 - alpha, 0, frame)\n",
    "        \n",
    "        '''count = 0\n",
    "        while count != id:\n",
    "             frame = cv2.putText(np.array(frame), str(count+1), (int(parked_car_boxes[0][0,:1]), int(parked_car_boxes[0][0,1:])), cv2.FONT_HERSHEY_SIMPLEX, 0.5, (255,0,0), 2)\n",
    "             count += 1'''\n",
    "\n",
    "        cv2.imshow('output', frame)\n",
    "        out.write(frame)\n",
    "        if cv2.waitKey(1) & 0xFF == ord('q'):\n",
    "            break\n",
    "\n",
    "    video_capture.release()\n",
    "    out.release()\n",
    "    cv2.destroyAllWindows()\n",
    "    print(\"output saved as out.avi\")\n",
    "    print(id_list)"
   ]
  },
  {
   "cell_type": "code",
   "execution_count": null,
   "metadata": {},
   "outputs": [],
   "source": []
  },
  {
   "cell_type": "code",
   "execution_count": null,
   "metadata": {},
   "outputs": [],
   "source": []
  }
 ],
 "metadata": {
  "kernelspec": {
   "display_name": "Python 3",
   "language": "python",
   "name": "python3"
  },
  "language_info": {
   "codemirror_mode": {
    "name": "ipython",
    "version": 3
   },
   "file_extension": ".py",
   "mimetype": "text/x-python",
   "name": "python",
   "nbconvert_exporter": "python",
   "pygments_lexer": "ipython3",
   "version": "3.7.6"
  }
 },
 "nbformat": 4,
 "nbformat_minor": 4
}
